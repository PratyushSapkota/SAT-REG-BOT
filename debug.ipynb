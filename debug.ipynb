{
 "cells": [
  {
   "cell_type": "code",
   "execution_count": 1,
   "metadata": {},
   "outputs": [],
   "source": [
    "from selenium_check import run_check_old, run_check"
   ]
  },
  {
   "cell_type": "code",
   "execution_count": 2,
   "metadata": {},
   "outputs": [
    {
     "name": "stdout",
     "output_type": "stream",
     "text": [
      "[2024-09-22 23:08:44] Checking start...\n",
      "Signing In\n",
      "Navigating to the dashboard\n",
      "Clicking the 'Register' button\n",
      "++\n",
      "Clicked\n",
      "has url\n",
      "Clicking the 'Get Started' button\n",
      "Clicking the 'Confirm Graduation Date' and 'Confirm Grade' buttons\n",
      "Clicking the 'Continue' button for photo upload\n",
      "Clicking the 'Continue' button in the student questionnaire\n",
      "Repeated clicks for the questionnaire continue button\n",
      "Clicking the 'Get Started' button for selecting date and center\n",
      "Accepting terms and conditions\n",
      "Clicking the continue button after accepting terms\n",
      "Proceeding to select the test location\n",
      "Selecting the test date\n",
      "Clicking continue after selecting the test date\n",
      "Selecting the test center location\n",
      "Searching for test centers\n",
      "Looking at centers\n"
     ]
    },
    {
     "data": {
      "text/plain": [
       "''"
      ]
     },
     "execution_count": 2,
     "metadata": {},
     "output_type": "execute_result"
    }
   ],
   "source": [
    "await run_check(where=\"NP\", when=\"NOV-2\")"
   ]
  },
  {
   "cell_type": "code",
   "execution_count": null,
   "metadata": {},
   "outputs": [],
   "source": []
  }
 ],
 "metadata": {
  "kernelspec": {
   "display_name": "Python 3",
   "language": "python",
   "name": "python3"
  },
  "language_info": {
   "codemirror_mode": {
    "name": "ipython",
    "version": 3
   },
   "file_extension": ".py",
   "mimetype": "text/x-python",
   "name": "python",
   "nbconvert_exporter": "python",
   "pygments_lexer": "ipython3",
   "version": "3.10.12"
  }
 },
 "nbformat": 4,
 "nbformat_minor": 2
}
